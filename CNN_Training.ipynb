{
  "nbformat": 4,
  "nbformat_minor": 0,
  "metadata": {
    "colab": {
      "name": "CNN_Training.ipynb",
      "provenance": [],
      "collapsed_sections": []
    },
    "kernelspec": {
      "name": "python3",
      "display_name": "Python 3"
    },
    "accelerator": "GPU"
  },
  "cells": [
    {
      "cell_type": "code",
      "metadata": {
        "id": "8wKZogZRTQAj",
        "colab_type": "code",
        "colab": {}
      },
      "source": [
        "import torch\n",
        "import torchvision\n",
        "import torchvision.transforms as transforms\n",
        "import torch.nn as nn\n",
        "import torch.nn.functional as F\n",
        "import torch.optim as optim\n",
        "import torch.utils.data as utils\n",
        "\n",
        "import numpy as np\n",
        "%matplotlib inline\n",
        "import matplotlib.pyplot as plt"
      ],
      "execution_count": 1,
      "outputs": []
    },
    {
      "cell_type": "code",
      "metadata": {
        "id": "S-4aA9QzpKmx",
        "colab_type": "code",
        "colab": {}
      },
      "source": [
        "##unique, counts = np.unique(Y_train, return_counts=True)\n",
        "#print(dict(zip(unique, counts)))\n",
        "batchsize = 250\n",
        "learningrate = 0.01\n",
        "epochs = 500 \n",
        "print_freq = 20"
      ],
      "execution_count": 2,
      "outputs": []
    },
    {
      "cell_type": "code",
      "metadata": {
        "id": "QuqZ7_rIrPDr",
        "colab_type": "code",
        "colab": {}
      },
      "source": [
        "transform = transforms.Compose(\n",
        " [transforms.ToTensor(),\n",
        " transforms.Normalize((0.5, 0.5, 0.5), (0.5, 0.5, 0.5))])"
      ],
      "execution_count": 3,
      "outputs": []
    },
    {
      "cell_type": "code",
      "metadata": {
        "id": "fndRv-DvsXDT",
        "colab_type": "code",
        "colab": {}
      },
      "source": [
        "tensor_x = torch.from_numpy(np.load('./drive/My Drive/Colab Notebooks/X_train.npy'))\n",
        "tensor_y = torch.from_numpy(np.load('./drive/My Drive/Colab Notebooks/Y_train.npy'))"
      ],
      "execution_count": 4,
      "outputs": []
    },
    {
      "cell_type": "code",
      "metadata": {
        "id": "wU2Q0W-X0ZBA",
        "colab_type": "code",
        "colab": {
          "base_uri": "https://localhost:8080/",
          "height": 34
        },
        "outputId": "3c969200-a739-47bd-a71d-1fcc75a60685"
      },
      "source": [
        "tensor_x = torch.reshape(tensor_x, (tensor_x.size(0), tensor_x.size(1), tensor_x.size(2), 1))\n",
        "print(tensor_x.shape)\n",
        "#tensor_x = torch.stack([torch.Tensor(i) for i in X_train])\n",
        "#tensor_y = torch.from_numpy(Y_train)"
      ],
      "execution_count": 5,
      "outputs": [
        {
          "output_type": "stream",
          "text": [
            "torch.Size([10000, 500, 500, 1])\n"
          ],
          "name": "stdout"
        }
      ]
    },
    {
      "cell_type": "code",
      "metadata": {
        "id": "ty0TttO50b9C",
        "colab_type": "code",
        "colab": {}
      },
      "source": [
        "trainset = utils.TensorDataset(tensor_x,tensor_y) \n",
        "trainloader = utils.DataLoader(trainset,  batch_size=batchsize)"
      ],
      "execution_count": 6,
      "outputs": []
    },
    {
      "cell_type": "code",
      "metadata": {
        "id": "KHQJAqtn0pC1",
        "colab_type": "code",
        "colab": {
          "base_uri": "https://localhost:8080/",
          "height": 34
        },
        "outputId": "412caae6-1bb0-4c40-a3ff-ebe390fb6214"
      },
      "source": [
        "if torch.cuda.is_available():\n",
        "    device = torch.device(\"cuda:0\")\n",
        "else:\n",
        "    device = torch.device(\"cpu\")\n",
        "print(device)"
      ],
      "execution_count": 7,
      "outputs": [
        {
          "output_type": "stream",
          "text": [
            "cuda:0\n"
          ],
          "name": "stdout"
        }
      ]
    },
    {
      "cell_type": "code",
      "metadata": {
        "id": "wCQ5BVQk0tcO",
        "colab_type": "code",
        "colab": {
          "base_uri": "https://localhost:8080/",
          "height": 51
        },
        "outputId": "8f7c1185-297b-4f82-d26c-324b142f590d"
      },
      "source": [
        "dataiter = iter(trainloader)\n",
        "images, labels = dataiter.next()\n",
        "print(images.size())\n",
        "images = images.permute(0, 3, 1, 2)\n",
        "print(images.size())"
      ],
      "execution_count": 8,
      "outputs": [
        {
          "output_type": "stream",
          "text": [
            "torch.Size([250, 500, 500, 1])\n",
            "torch.Size([250, 1, 500, 500])\n"
          ],
          "name": "stdout"
        }
      ]
    },
    {
      "cell_type": "code",
      "metadata": {
        "id": "KAjK7zoQ0625",
        "colab_type": "code",
        "colab": {}
      },
      "source": [
        "def poisson_noise(X_torch):\n",
        "    X = X_torch.cpu().numpy()\n",
        "    vals = len(np.unique(X))\n",
        "    vals = 2 ** np.ceil(np.log2(vals))\n",
        "    noisy = np.random.poisson(X * vals) / float(vals)\n",
        "    return noisy\n",
        "\n",
        "def speckle_noise(X_torch):\n",
        "    X = X_torch.cpu().numpy()\n",
        "    X = X.reshape((X.shape[0], X.shape[1])) \n",
        "    row,col = X.shape\n",
        "    s_vs_p = 0.5\n",
        "    amount = 0.02\n",
        "    out = np.copy(X)\n",
        "    num_salt = np.ceil(amount * X.size * s_vs_p)\n",
        "    coords = [np.random.randint(0, i - 1, int(num_salt))\n",
        "              for i in X.shape]\n",
        "    out[coords] = 1\n",
        "    num_pepper = np.ceil(amount* X.size * (1. - s_vs_p))\n",
        "    coords = [np.random.randint(0, i - 1, int(num_pepper))\n",
        "              for i in X.shape]\n",
        "    out[coords] = 0\n",
        "    return out.reshape((out.shape[0], out.shape[1],1))\n",
        "\n",
        "def flip_2D(X_torch):\n",
        "    return np.fliplr(X_torch.cpu().numpy())"
      ],
      "execution_count": 9,
      "outputs": []
    },
    {
      "cell_type": "code",
      "metadata": {
        "id": "NvNHdgqu08vz",
        "colab_type": "code",
        "colab": {}
      },
      "source": [
        "def augment_batch(inputs, labels):\n",
        "    x = np.zeros((inputs.size()[0] * 2 ,inputs.size()[1],inputs.size()[2], inputs.size()[3]))\n",
        "    y = np.zeros((labels.size()[0] * 2))\n",
        "    for i in range(len(inputs)):\n",
        "        x[2*i] = inputs[i].cpu().numpy()\n",
        "        y[2*i] = labels[i].cpu().numpy()\n",
        "        if (i%3 == 2):\n",
        "          x[2*i+1] = flip_2D(inputs[i])\n",
        "          y[2*i+1] = labels[i]\n",
        "        elif (i%3 == 0):\n",
        "            x[2*i+1] = poisson_noise(inputs[i])\n",
        "            y[2*i+1] = labels[i]\n",
        "        else:\n",
        "            x[2*i+1] = speckle_noise(inputs[i])\n",
        "            y[2*i+1] = labels[i]\n",
        "    return torch.from_numpy(x), torch.from_numpy(y)"
      ],
      "execution_count": 10,
      "outputs": []
    },
    {
      "cell_type": "code",
      "metadata": {
        "id": "tcO0EPHK0-By",
        "colab_type": "code",
        "colab": {
          "base_uri": "https://localhost:8080/",
          "height": 340
        },
        "outputId": "08c77252-4345-4b19-da3f-aa4006d1cb73"
      },
      "source": [
        "num_classes = 2\n",
        "class Net(nn.Module):\n",
        "    def __init__(self):\n",
        "        super(Net, self).__init__()\n",
        "        self.conv1 = nn.Conv2d(1, 10, 5, padding=1)\n",
        "        self.conv1_bn = nn.BatchNorm2d(10)\n",
        "        self.pool = nn.MaxPool2d(2, 2)\n",
        "        self.conv2 = nn.Conv2d(10, 20, 10, padding=1)\n",
        "        self.pool = nn.AdaptiveAvgPool2d((2, 2))\n",
        "        self.conv3 = nn.Conv2d(20, 10, 4, padding=1)\n",
        "        self.conv3_bn = nn.BatchNorm2d(10)\n",
        "        self.pool = nn.MaxPool2d(2, 2)\n",
        "        self.conv4 = nn.Conv2d(10, 20, 3, padding=1)\n",
        "        self.pool = nn.MaxPool2d(2, 2)\n",
        "        self.conv5 = nn.Conv2d(20, 10, 4, padding=1)\n",
        "        self.conv5_bn = nn.BatchNorm2d(10)\n",
        "        self.pool = nn.AdaptiveAvgPool2d((2, 2))\n",
        "        self.conv6 = nn.Conv2d(10, 20, 3, padding=1)\n",
        "        self.pool = nn.MaxPool2d(2, 2)\n",
        "        self.conv7 = nn.Conv2d(20, 10, 4, padding=1)\n",
        "        self.conv7_bn = nn.BatchNorm2d(10)\n",
        "        self.pool = nn.MaxPool2d(2, 2)\n",
        "        self.conv8 = nn.Conv2d(10, 20, 3, padding=1)\n",
        "        self.pool = nn.AdaptiveAvgPool2d((2, 2))\n",
        "        self.conv9 = nn.Conv2d(20, 20, 3, padding=1)\n",
        "        self.pool = nn.MaxPool2d((2, 2))\n",
        "        self.fc1 = nn.Linear(20, 10)\n",
        "        self.fc1_bn = nn.BatchNorm1d(10)\n",
        "        self.fc2 = nn.Linear(10, num_classes)\n",
        "\n",
        "\n",
        "    def forward(self, x):\n",
        "        x = self.pool(F.relu(self.conv1_bn(self.conv1(x.float()))))\n",
        "        x = self.pool(F.relu(self.conv2(x.float())))\n",
        "        x = F.dropout(x.float(),0.9)\n",
        "        x = self.pool(F.relu(self.conv3_bn(self.conv3(x.float()))))\n",
        "        x = self.pool(F.relu(self.conv4(x.float())))\n",
        "        x = self.pool(F.relu(self.conv5_bn(self.conv5(x.float()))))\n",
        "        x = self.pool(F.relu(self.conv6(x.float())))\n",
        "        x = F.dropout(x.float(),0.9)\n",
        "        x = self.pool(F.relu(self.conv7_bn(self.conv7(x.float()))))\n",
        "        x = self.pool(F.relu(self.conv8(x.float())))\n",
        "        x = F.dropout(x.float(), 0.9)\n",
        "        x = x.view(x.size(0), 20)\n",
        "        x = F.relu(self.fc1_bn(self.fc1(x)))\n",
        "        x = F.relu(self.fc2(x))\n",
        "        #print(x.shape)\n",
        "        return x\n",
        "    \n",
        "net = Net()\n",
        "net.to(device)"
      ],
      "execution_count": 11,
      "outputs": [
        {
          "output_type": "execute_result",
          "data": {
            "text/plain": [
              "Net(\n",
              "  (conv1): Conv2d(1, 10, kernel_size=(5, 5), stride=(1, 1), padding=(1, 1))\n",
              "  (conv1_bn): BatchNorm2d(10, eps=1e-05, momentum=0.1, affine=True, track_running_stats=True)\n",
              "  (pool): MaxPool2d(kernel_size=(2, 2), stride=(2, 2), padding=0, dilation=1, ceil_mode=False)\n",
              "  (conv2): Conv2d(10, 20, kernel_size=(10, 10), stride=(1, 1), padding=(1, 1))\n",
              "  (conv3): Conv2d(20, 10, kernel_size=(4, 4), stride=(1, 1), padding=(1, 1))\n",
              "  (conv3_bn): BatchNorm2d(10, eps=1e-05, momentum=0.1, affine=True, track_running_stats=True)\n",
              "  (conv4): Conv2d(10, 20, kernel_size=(3, 3), stride=(1, 1), padding=(1, 1))\n",
              "  (conv5): Conv2d(20, 10, kernel_size=(4, 4), stride=(1, 1), padding=(1, 1))\n",
              "  (conv5_bn): BatchNorm2d(10, eps=1e-05, momentum=0.1, affine=True, track_running_stats=True)\n",
              "  (conv6): Conv2d(10, 20, kernel_size=(3, 3), stride=(1, 1), padding=(1, 1))\n",
              "  (conv7): Conv2d(20, 10, kernel_size=(4, 4), stride=(1, 1), padding=(1, 1))\n",
              "  (conv7_bn): BatchNorm2d(10, eps=1e-05, momentum=0.1, affine=True, track_running_stats=True)\n",
              "  (conv8): Conv2d(10, 20, kernel_size=(3, 3), stride=(1, 1), padding=(1, 1))\n",
              "  (conv9): Conv2d(20, 20, kernel_size=(3, 3), stride=(1, 1), padding=(1, 1))\n",
              "  (fc1): Linear(in_features=20, out_features=10, bias=True)\n",
              "  (fc1_bn): BatchNorm1d(10, eps=1e-05, momentum=0.1, affine=True, track_running_stats=True)\n",
              "  (fc2): Linear(in_features=10, out_features=2, bias=True)\n",
              ")"
            ]
          },
          "metadata": {
            "tags": []
          },
          "execution_count": 11
        }
      ]
    },
    {
      "cell_type": "code",
      "metadata": {
        "id": "vXQUNuiwLVKR",
        "colab_type": "code",
        "colab": {}
      },
      "source": [
        "loss_func = nn.CrossEntropyLoss()"
      ],
      "execution_count": 12,
      "outputs": []
    },
    {
      "cell_type": "code",
      "metadata": {
        "id": "tQ6quvjALYCA",
        "colab_type": "code",
        "colab": {}
      },
      "source": [
        "opt = torch.optim.AdamW(net.parameters(), lr=learningrate)"
      ],
      "execution_count": 13,
      "outputs": []
    },
    {
      "cell_type": "code",
      "metadata": {
        "id": "2pIWnriFLYUL",
        "colab_type": "code",
        "colab": {}
      },
      "source": [
        "avg_losses = []"
      ],
      "execution_count": 14,
      "outputs": []
    },
    {
      "cell_type": "code",
      "metadata": {
        "id": "FMCTbE4pLZ-y",
        "colab_type": "code",
        "colab": {
          "base_uri": "https://localhost:8080/",
          "height": 1000
        },
        "outputId": "825ec20a-2460-42b9-8bef-3f5084bcf773"
      },
      "source": [
        "for epoch in range(epochs): \n",
        "    running_loss = 0.0\n",
        "    for i, data in enumerate(trainloader, 0):\n",
        "        inputs, labels = data\n",
        "        \n",
        "        #inputs, labels = augment_batch(inputs, labels)\n",
        "        \n",
        "        inputs = inputs.permute(0, 3, 1, 2)\n",
        "        inputs, labels = inputs.to(device), labels.to(device)\n",
        "\n",
        "        opt.zero_grad()\n",
        "        outputs = net(inputs)\n",
        "        loss = loss_func(outputs, labels.long())\n",
        "\n",
        "        loss.backward()\n",
        "\n",
        "        opt.step()\n",
        "        \n",
        "        running_loss += loss.item()\n",
        "        if i % print_freq == print_freq - 1:\n",
        "            avg_loss = running_loss / print_freq\n",
        "            print('[epoch: {}, i: {:5d}] avg mini-batch loss: {:.3f}'.format(epoch, i, avg_loss))\n",
        "            avg_losses.append(avg_loss)\n",
        "            running_loss = 0.0\n",
        "print('Finished Training.')"
      ],
      "execution_count": null,
      "outputs": [
        {
          "output_type": "stream",
          "text": [
            "[epoch: 0, i:    19] avg mini-batch loss: 0.658\n",
            "[epoch: 0, i:    39] avg mini-batch loss: 0.590\n",
            "[epoch: 1, i:    19] avg mini-batch loss: 0.560\n",
            "[epoch: 1, i:    39] avg mini-batch loss: 0.537\n",
            "[epoch: 2, i:    19] avg mini-batch loss: 0.497\n",
            "[epoch: 2, i:    39] avg mini-batch loss: 0.482\n",
            "[epoch: 3, i:    19] avg mini-batch loss: 0.459\n",
            "[epoch: 3, i:    39] avg mini-batch loss: 0.453\n",
            "[epoch: 4, i:    19] avg mini-batch loss: 0.437\n",
            "[epoch: 4, i:    39] avg mini-batch loss: 0.416\n",
            "[epoch: 5, i:    19] avg mini-batch loss: 0.407\n",
            "[epoch: 5, i:    39] avg mini-batch loss: 0.395\n",
            "[epoch: 6, i:    19] avg mini-batch loss: 0.388\n",
            "[epoch: 6, i:    39] avg mini-batch loss: 0.391\n",
            "[epoch: 7, i:    19] avg mini-batch loss: 0.386\n",
            "[epoch: 7, i:    39] avg mini-batch loss: 0.373\n",
            "[epoch: 8, i:    19] avg mini-batch loss: 0.368\n",
            "[epoch: 8, i:    39] avg mini-batch loss: 0.359\n",
            "[epoch: 9, i:    19] avg mini-batch loss: 0.358\n",
            "[epoch: 9, i:    39] avg mini-batch loss: 0.361\n",
            "[epoch: 10, i:    19] avg mini-batch loss: 0.368\n",
            "[epoch: 10, i:    39] avg mini-batch loss: 0.360\n",
            "[epoch: 11, i:    19] avg mini-batch loss: 0.348\n",
            "[epoch: 11, i:    39] avg mini-batch loss: 0.346\n",
            "[epoch: 12, i:    19] avg mini-batch loss: 0.346\n",
            "[epoch: 12, i:    39] avg mini-batch loss: 0.363\n",
            "[epoch: 13, i:    19] avg mini-batch loss: 0.360\n",
            "[epoch: 13, i:    39] avg mini-batch loss: 0.351\n",
            "[epoch: 14, i:    19] avg mini-batch loss: 0.343\n",
            "[epoch: 14, i:    39] avg mini-batch loss: 0.343\n",
            "[epoch: 15, i:    19] avg mini-batch loss: 0.339\n",
            "[epoch: 15, i:    39] avg mini-batch loss: 0.347\n",
            "[epoch: 16, i:    19] avg mini-batch loss: 0.336\n",
            "[epoch: 16, i:    39] avg mini-batch loss: 0.333\n",
            "[epoch: 17, i:    19] avg mini-batch loss: 0.329\n",
            "[epoch: 17, i:    39] avg mini-batch loss: 0.327\n",
            "[epoch: 18, i:    19] avg mini-batch loss: 0.330\n",
            "[epoch: 18, i:    39] avg mini-batch loss: 0.328\n",
            "[epoch: 19, i:    19] avg mini-batch loss: 0.337\n",
            "[epoch: 19, i:    39] avg mini-batch loss: 0.325\n",
            "[epoch: 20, i:    19] avg mini-batch loss: 0.322\n",
            "[epoch: 20, i:    39] avg mini-batch loss: 0.328\n",
            "[epoch: 21, i:    19] avg mini-batch loss: 0.318\n",
            "[epoch: 21, i:    39] avg mini-batch loss: 0.323\n",
            "[epoch: 22, i:    19] avg mini-batch loss: 0.330\n",
            "[epoch: 22, i:    39] avg mini-batch loss: 0.329\n",
            "[epoch: 23, i:    19] avg mini-batch loss: 0.309\n",
            "[epoch: 23, i:    39] avg mini-batch loss: 0.322\n",
            "[epoch: 24, i:    19] avg mini-batch loss: 0.313\n",
            "[epoch: 24, i:    39] avg mini-batch loss: 0.311\n",
            "[epoch: 25, i:    19] avg mini-batch loss: 0.326\n",
            "[epoch: 25, i:    39] avg mini-batch loss: 0.314\n",
            "[epoch: 26, i:    19] avg mini-batch loss: 0.316\n",
            "[epoch: 26, i:    39] avg mini-batch loss: 0.314\n",
            "[epoch: 27, i:    19] avg mini-batch loss: 0.311\n",
            "[epoch: 27, i:    39] avg mini-batch loss: 0.299\n",
            "[epoch: 28, i:    19] avg mini-batch loss: 0.310\n",
            "[epoch: 28, i:    39] avg mini-batch loss: 0.310\n",
            "[epoch: 29, i:    19] avg mini-batch loss: 0.311\n",
            "[epoch: 29, i:    39] avg mini-batch loss: 0.308\n",
            "[epoch: 30, i:    19] avg mini-batch loss: 0.313\n",
            "[epoch: 30, i:    39] avg mini-batch loss: 0.310\n",
            "[epoch: 31, i:    19] avg mini-batch loss: 0.300\n",
            "[epoch: 31, i:    39] avg mini-batch loss: 0.312\n",
            "[epoch: 32, i:    19] avg mini-batch loss: 0.303\n",
            "[epoch: 32, i:    39] avg mini-batch loss: 0.307\n"
          ],
          "name": "stdout"
        }
      ]
    },
    {
      "cell_type": "code",
      "metadata": {
        "id": "ImEX-wvPLcRb",
        "colab_type": "code",
        "colab": {
          "base_uri": "https://localhost:8080/",
          "height": 279
        },
        "outputId": "5a0294e5-47bc-48b3-c15b-89cf79a5407a"
      },
      "source": [
        "plt.plot(avg_losses)\n",
        "plt.xlabel('mini-batch index / {}'.format(print_freq))\n",
        "plt.ylabel('avg. mini-batch loss')\n",
        "plt.show()"
      ],
      "execution_count": null,
      "outputs": [
        {
          "output_type": "display_data",
          "data": {
            "image/png": "[encoded data removed]",
            "text/plain": [
              "<Figure size 432x288 with 1 Axes>"
            ]
          },
          "metadata": {
            "tags": [],
            "needs_background": "light"
          }
        }
      ]
    },
    {
      "cell_type": "code",
      "metadata": {
        "id": "x5H1d2sk61s7",
        "colab_type": "code",
        "colab": {}
      },
      "source": [
        "net.eval()\n",
        "correct = 0\n",
        "total = 0"
      ],
      "execution_count": null,
      "outputs": []
    },
    {
      "cell_type": "code",
      "metadata": {
        "id": "NjhDy_gx62co",
        "colab_type": "code",
        "colab": {}
      },
      "source": [
        "tensor_x_test = torch.from_numpy(np.load('./drive/My Drive/Colab Notebooks/X_test.npy'))\n",
        "tensor_y_test = torch.from_numpy(np.load('./drive/My Drive/Colab Notebooks/Y_test.npy'))"
      ],
      "execution_count": null,
      "outputs": []
    },
    {
      "cell_type": "code",
      "metadata": {
        "id": "9n9Vf84269v5",
        "colab_type": "code",
        "colab": {
          "base_uri": "https://localhost:8080/",
          "height": 34
        },
        "outputId": "588fabfa-e8f1-4dc3-b768-85437dea9818"
      },
      "source": [
        "tensor_x_test = torch.reshape(tensor_x_test, (tensor_x_test.size(0), tensor_x_test.size(1), tensor_x_test.size(2), 1))\n",
        "print(tensor_x_test.shape)"
      ],
      "execution_count": null,
      "outputs": [
        {
          "output_type": "stream",
          "text": [
            "torch.Size([915, 700, 700, 1])\n"
          ],
          "name": "stdout"
        }
      ]
    },
    {
      "cell_type": "code",
      "metadata": {
        "id": "8dtY7MHR7H-0",
        "colab_type": "code",
        "colab": {}
      },
      "source": [
        "testset = utils.TensorDataset(tensor_x_test,tensor_y_test)\n",
        "testloader = utils.DataLoader(testset,  batch_size= batchsize)"
      ],
      "execution_count": null,
      "outputs": []
    },
    {
      "cell_type": "code",
      "metadata": {
        "id": "BCzAaXrO7RZR",
        "colab_type": "code",
        "colab": {
          "base_uri": "https://localhost:8080/",
          "height": 51
        },
        "outputId": "5c45cf5c-40ac-4f48-c4c7-783fa65891e9"
      },
      "source": [
        "with torch.no_grad():\n",
        "    for data in testloader:\n",
        "        images, labels = data\n",
        "        images = images.permute(0, 3, 1, 2)\n",
        "        images = images.to(device)\n",
        "        labels = labels.to(device)\n",
        "        outputs = net(images)\n",
        "        _, predicted = torch.max(outputs.data, 1)\n",
        "        total += labels.size(0)\n",
        "        correct += (predicted == labels).sum().item()\n",
        "print(total)\n",
        "print('Accuracy of the network on the test images: %d %%' % (100 * correct / total))"
      ],
      "execution_count": null,
      "outputs": [
        {
          "output_type": "stream",
          "text": [
            "915\n",
            "Accuracy of the network on the test images: 54 %\n"
          ],
          "name": "stdout"
        }
      ]
    },
    {
      "cell_type": "code",
      "metadata": {
        "id": "1TMD1LQh7Y75",
        "colab_type": "code",
        "colab": {
          "base_uri": "https://localhost:8080/",
          "height": 51
        },
        "outputId": "0af250a1-ab61-4f92-d2a0-b24dc2665303"
      },
      "source": [
        "with torch.no_grad():\n",
        "    for data in trainloader:\n",
        "        images, labels = data\n",
        "        images = images.permute(0, 3, 1, 2)\n",
        "        images = images.to(device)\n",
        "        labels = labels.to(device)\n",
        "        outputs = net(images)\n",
        "        _, predicted = torch.max(outputs.data, 1)\n",
        "        total += labels.size(0)\n",
        "        correct += (predicted == labels).sum().item()\n",
        "print(total)\n",
        "print('Accuracy of the network on the train images: %d %%' % (100 * correct / total))"
      ],
      "execution_count": null,
      "outputs": [
        {
          "output_type": "stream",
          "text": [
            "8641\n",
            "Accuracy of the network on the train images: 53 %\n"
          ],
          "name": "stdout"
        }
      ]
    },
    {
      "cell_type": "code",
      "metadata": {
        "id": "lLJ5HujVe8-k",
        "colab_type": "code",
        "colab": {}
      },
      "source": [
        ""
      ],
      "execution_count": null,
      "outputs": []
    }
  ]
}